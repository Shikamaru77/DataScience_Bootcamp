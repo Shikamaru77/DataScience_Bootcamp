{
 "cells": [
  {
   "cell_type": "markdown",
   "id": "29ff5139",
   "metadata": {},
   "source": [
    "# Part 3. Short Question/MCQ - 20"
   ]
  },
  {
   "cell_type": "markdown",
   "id": "9e3ac5f4",
   "metadata": {},
   "source": [
    "#### Question 1: Marks 3\n",
    "You have \\$10,000 to invest in three companies\n",
    "- Company 1 yields 99\\% with a chance of 10\\%.\n",
    "- Company 2 yields 10\\% 99\\% of the time.\n",
    "- Company 3 yields 1000\\% 1\\% of the time.\n",
    "    + a) What is the probability that all companies make profit?\n",
    "    + b) What is the expected return of company 1 when investing $10,000?\n",
    "    + c) What is the probability that no company makes profit?\n"
   ]
  },
  {
   "cell_type": "code",
   "execution_count": 10,
   "id": "988c07a3",
   "metadata": {},
   "outputs": [
    {
     "name": "stdout",
     "output_type": "stream",
     "text": [
      "a) 0.00099\n",
      " b) $990.0 \n",
      " c) 0.99901\n",
      "\n"
     ]
    }
   ],
   "source": [
    "a = 0.10 * 0.99 * 0.01 \n",
    "b = (0.10 * 0.99 * 10000) + (0.90 * 0 * 10000)\n",
    "c = 1-a\n",
    "\n",
    "print(f'a) {a}\\n b) ${b} \\n c) {c}\\n')"
   ]
  },
  {
   "cell_type": "markdown",
   "id": "0f7ffbd1",
   "metadata": {},
   "source": [
    "#### Question 2: Marks 2\n",
    "The situation: ”You invest everything in one stock. One year later you have either the same/more money or you lost some” can be modeled by which distribution?\n",
    "- i) Bernouli Distribution\n",
    "- ii) Binomial Distribution\n",
    "- iii) Gaussian/Normal Distribution\n",
    "- iv) Uniform Distribution"
   ]
  },
  {
   "cell_type": "markdown",
   "id": "6d004259",
   "metadata": {},
   "source": [
    "Ans: \n",
    "- i. **Bernouli Distribution** : Because the situation is a binary one. Either you have money/more money(1) or no money(0)"
   ]
  },
  {
   "cell_type": "markdown",
   "id": "00558793",
   "metadata": {},
   "source": [
    "#### Question 3: Marks 3\n",
    "According to [statista](https://www.statista.com/statistics/1126823/worldwide-developer-gender/), roughly 92% of the worldwide software engineers are male. What is the probability that if you select 10 software engineers at random, there are exactly 9 males? What is the probability that there more or less than 9 males?\n"
   ]
  },
  {
   "cell_type": "code",
   "execution_count": 14,
   "id": "bb86526d",
   "metadata": {},
   "outputs": [
    {
     "name": "stdout",
     "output_type": "stream",
     "text": [
      "Probability of exactly 9 males: 0.3777\n",
      "Probability of more or less than 9 males: 0.6223\n"
     ]
    }
   ],
   "source": [
    "p_male = 0.92\n",
    "n = 10\n",
    "u = 9\n",
    "\n",
    "def smafraim(n, u):\n",
    "    if u < 0 or u > n:\n",
    "        return 0\n",
    "    if u == 0 or u == n:\n",
    "        return 1\n",
    "    return smafraim(n - 1, u - 1) + smafraim(n - 1, u)\n",
    "\n",
    "# Calculating the probability of getting exactly 9 males (P(X = 9))\n",
    "probability_9_males = smafraim(n, u) * (p_male ** u) * ((1 - p_male) ** (n - u)) #binom coef formula\n",
    "\n",
    "# Calculating the probability of getting more or less than 9 males (P(X ≠ 9))\n",
    "probability_not_9_males = 1-probability_9_males\n",
    "# Print the results\n",
    "print(f\"Probability of exactly 9 males: {probability_9_males:.4f}\")\n",
    "print(f\"Probability of more or less than 9 males: {probability_not_9_males:.4f}\")\n"
   ]
  },
  {
   "cell_type": "markdown",
   "id": "9337bbc6",
   "metadata": {},
   "source": [
    "#### Question 4: Marks 3\n",
    "A dice (1-6) is thrown 10 times and the sum of the 10 rolls is noted.\n",
    "- a) What is the expected sum?\n",
    "- b) What is the distribution?\n"
   ]
  },
  {
   "cell_type": "code",
   "execution_count": 17,
   "id": "ef500a61",
   "metadata": {},
   "outputs": [
    {
     "name": "stdout",
     "output_type": "stream",
     "text": [
      "a) 35.0 \n",
      " b) the distribution is a binomial distribution with n(the number of trials)  = 10 and p (the probability on each trial) = 1/6.\n"
     ]
    }
   ],
   "source": [
    "a = ((1+2+3+4+5+6)/6)*10\n",
    "print(f'a) {a} \\n b) the distribution is a binomial distribution with n(the number of trials)  = 10 and p (the probability on each trial) = 1/6.')"
   ]
  },
  {
   "cell_type": "markdown",
   "id": "0d927666",
   "metadata": {},
   "source": [
    "#### Question 5: Marks 4+5\n",
    "You want to compare two stocks. The following averaged monthly returns were yielded by stock A and B, respectively:\n",
    "![part_3_question_5.png](part_3_question_5.png)\n",
    "- a) Compute the covariance between the two stocks. What does this value mean?\n",
    "- b) Compute the pearson coefficient based on the above values."
   ]
  },
  {
   "cell_type": "code",
   "execution_count": 22,
   "id": "d04cc4b4",
   "metadata": {},
   "outputs": [
    {
     "name": "stdout",
     "output_type": "stream",
     "text": [
      "a) Covariance: -3.67\n",
      "b) Pearson Correlation Coefficient: -0.87\n"
     ]
    }
   ],
   "source": [
    "import pandas as pd\n",
    "\n",
    "A = pd.Series([1.7,2.4,0.1,0.5,-2.5,6.6,1.5,0.2,0.1,2.1,3.1,-1.1])\n",
    "B = pd.Series([-0.1,-0.3,3.2,2.5,5.2,-1.3,0.2,1.8,2.2,0.3,0.1,1.9])\n",
    "\n",
    "# Calculate covariance\n",
    "covariance = round(A.cov(B), 2)\n",
    "\n",
    "# Calculate Pearson correlation coefficient\n",
    "correlation_coefficient = round(A.corr(B), 2)\n",
    "\n",
    "print(f\"a) Covariance: {covariance}\")\n",
    "print(f\"b) Pearson Correlation Coefficient: {correlation_coefficient}\")"
   ]
  },
  {
   "cell_type": "code",
   "execution_count": null,
   "id": "757fcb93",
   "metadata": {},
   "outputs": [],
   "source": []
  }
 ],
 "metadata": {
  "kernelspec": {
   "display_name": "Python 3 (ipykernel)",
   "language": "python",
   "name": "python3"
  },
  "language_info": {
   "codemirror_mode": {
    "name": "ipython",
    "version": 3
   },
   "file_extension": ".py",
   "mimetype": "text/x-python",
   "name": "python",
   "nbconvert_exporter": "python",
   "pygments_lexer": "ipython3",
   "version": "3.9.12"
  }
 },
 "nbformat": 4,
 "nbformat_minor": 5
}
